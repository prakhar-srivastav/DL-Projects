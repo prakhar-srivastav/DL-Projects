{
  "nbformat": 4,
  "nbformat_minor": 0,
  "metadata": {
    "colab": {
      "name": "Gans.ipynb",
      "provenance": []
    },
    "kernelspec": {
      "name": "python3",
      "display_name": "Python 3"
    },
    "accelerator": "GPU"
  },
  "cells": [
    {
      "cell_type": "code",
      "metadata": {
        "id": "6Um1FJe7EpyD",
        "colab_type": "code",
        "colab": {}
      },
      "source": [
        "import numpy as np\n",
        "import pandas as pd \n",
        "import matplotlib.pyplot as plt \n"
      ],
      "execution_count": 1,
      "outputs": []
    },
    {
      "cell_type": "code",
      "metadata": {
        "id": "mSoJjYtPFggH",
        "colab_type": "code",
        "colab": {}
      },
      "source": [
        "from tensorflow.keras.datasets import mnist "
      ],
      "execution_count": 2,
      "outputs": []
    },
    {
      "cell_type": "code",
      "metadata": {
        "id": "Nt2JhFnxFqZD",
        "colab_type": "code",
        "colab": {
          "base_uri": "https://localhost:8080/",
          "height": 52
        },
        "outputId": "6b584abe-173f-4fbd-d00d-3717bca66579"
      },
      "source": [
        "(X_train,y_train),(X_test,y_test) =mnist.load_data()"
      ],
      "execution_count": 3,
      "outputs": [
        {
          "output_type": "stream",
          "text": [
            "Downloading data from https://storage.googleapis.com/tensorflow/tf-keras-datasets/mnist.npz\n",
            "11493376/11490434 [==============================] - 0s 0us/step\n"
          ],
          "name": "stdout"
        }
      ]
    },
    {
      "cell_type": "code",
      "metadata": {
        "id": "S8MGC3jrF26D",
        "colab_type": "code",
        "colab": {
          "base_uri": "https://localhost:8080/",
          "height": 282
        },
        "outputId": "8f190282-41b5-4fda-8ee0-d4c1e1ec41c1"
      },
      "source": [
        "plt.imshow(X_train[0])"
      ],
      "execution_count": 4,
      "outputs": [
        {
          "output_type": "execute_result",
          "data": {
            "text/plain": [
              "<matplotlib.image.AxesImage at 0x7fb2f9736780>"
            ]
          },
          "metadata": {
            "tags": []
          },
          "execution_count": 4
        },
        {
          "output_type": "display_data",
          "data": {
            "image/png": "[encoded data removed]",
            "text/plain": [
              "<Figure size 432x288 with 1 Axes>"
            ]
          },
          "metadata": {
            "tags": [],
            "needs_background": "light"
          }
        }
      ]
    },
    {
      "cell_type": "code",
      "metadata": {
        "id": "QW_zNnAFF8_s",
        "colab_type": "code",
        "colab": {
          "base_uri": "https://localhost:8080/",
          "height": 34
        },
        "outputId": "a676adfe-81bd-452f-f340-ca8acb8d2ec7"
      },
      "source": [
        "y_train[0]"
      ],
      "execution_count": 5,
      "outputs": [
        {
          "output_type": "execute_result",
          "data": {
            "text/plain": [
              "5"
            ]
          },
          "metadata": {
            "tags": []
          },
          "execution_count": 5
        }
      ]
    },
    {
      "cell_type": "code",
      "metadata": {
        "id": "T96s8Fn2GBTq",
        "colab_type": "code",
        "colab": {}
      },
      "source": [
        "only_zeros = X_train[y_train==0]"
      ],
      "execution_count": 6,
      "outputs": []
    },
    {
      "cell_type": "code",
      "metadata": {
        "id": "Q-eKJ8e4GPnC",
        "colab_type": "code",
        "colab": {
          "base_uri": "https://localhost:8080/",
          "height": 34
        },
        "outputId": "afa2f705-62c7-4012-b887-8829279a83ce"
      },
      "source": [
        "only_zeros.shape"
      ],
      "execution_count": 7,
      "outputs": [
        {
          "output_type": "execute_result",
          "data": {
            "text/plain": [
              "(5923, 28, 28)"
            ]
          },
          "metadata": {
            "tags": []
          },
          "execution_count": 7
        }
      ]
    },
    {
      "cell_type": "code",
      "metadata": {
        "id": "Fl2w9utJGTYc",
        "colab_type": "code",
        "colab": {}
      },
      "source": [
        "import tensorflow as tf \n",
        "from tensorflow.keras.layers import Dense,Reshape,Flatten\n",
        "from tensorflow.keras.models import Sequential "
      ],
      "execution_count": 8,
      "outputs": []
    },
    {
      "cell_type": "code",
      "metadata": {
        "id": "WpSDr0rpGaJi",
        "colab_type": "code",
        "colab": {}
      },
      "source": [
        "#Discriminator Mpdel\n",
        "discriminator = Sequential()\n",
        "discriminator.add(Flatten(input_shape=[28,28]))\n",
        "discriminator.add(Dense(150,activation='relu'))\n",
        "discriminator.add(Dense(100,activation='relu'))\n",
        "discriminator.add(Dense(1,activation='sigmoid'))\n",
        "\n",
        "discriminator.compile(loss='binary_crossentropy',optimizer='adam')"
      ],
      "execution_count": 9,
      "outputs": []
    },
    {
      "cell_type": "markdown",
      "metadata": {
        "id": "b1yODShdIZXN",
        "colab_type": "text"
      },
      "source": [
        ""
      ]
    },
    {
      "cell_type": "code",
      "metadata": {
        "id": "CcaQ286wIAkE",
        "colab_type": "code",
        "colab": {}
      },
      "source": [
        "coding_size=100\n",
        "generator=Sequential()\n",
        "generator.add(Dense(100,activation='relu',input_shape=[coding_size]))\n",
        "generator.add(Dense(150,activation='relu'))\n",
        "generator.add(Dense(784,activation='relu'))\n",
        "generator.add(Reshape([28,28]))"
      ],
      "execution_count": 10,
      "outputs": []
    },
    {
      "cell_type": "code",
      "metadata": {
        "id": "LF0ePMSKJbtu",
        "colab_type": "code",
        "colab": {}
      },
      "source": [
        "GAN=Sequential([generator,discriminator])"
      ],
      "execution_count": 11,
      "outputs": []
    },
    {
      "cell_type": "code",
      "metadata": {
        "id": "mw0aKW0aKsJT",
        "colab_type": "code",
        "colab": {}
      },
      "source": [
        "discriminator.trainaible=False "
      ],
      "execution_count": 12,
      "outputs": []
    },
    {
      "cell_type": "code",
      "metadata": {
        "id": "lnS1fujUK8hI",
        "colab_type": "code",
        "colab": {}
      },
      "source": [
        "GAN.compile(loss='binary_crossentropy',optimizer='adam')"
      ],
      "execution_count": 13,
      "outputs": []
    },
    {
      "cell_type": "code",
      "metadata": {
        "id": "qCU0RUXUMK4I",
        "colab_type": "code",
        "colab": {}
      },
      "source": [
        "data=only_zeros\n",
        "dataset= tf.data.Dataset.from_tensor_slices(data).shuffle(buffer_size=1000)"
      ],
      "execution_count": 14,
      "outputs": []
    },
    {
      "cell_type": "code",
      "metadata": {
        "id": "-9U7NOjxdrTU",
        "colab_type": "code",
        "colab": {}
      },
      "source": [
        "dataset=dataset.batch(batch_size=32,drop_remainder=True).prefetch(1)\n",
        "\n"
      ],
      "execution_count": 15,
      "outputs": []
    },
    {
      "cell_type": "code",
      "metadata": {
        "id": "AmuUIccyeVRD",
        "colab_type": "code",
        "colab": {
          "base_uri": "https://localhost:8080/",
          "height": 52
        },
        "outputId": "77312060-16af-4ffc-be17-1af6af47b97b"
      },
      "source": [
        "GAN.layers"
      ],
      "execution_count": 16,
      "outputs": [
        {
          "output_type": "execute_result",
          "data": {
            "text/plain": [
              "[<tensorflow.python.keras.engine.sequential.Sequential at 0x7fb343bb8400>,\n",
              " <tensorflow.python.keras.engine.sequential.Sequential at 0x7fb2f96f8748>]"
            ]
          },
          "metadata": {
            "tags": []
          },
          "execution_count": 16
        }
      ]
    },
    {
      "cell_type": "code",
      "metadata": {
        "id": "tQxNFIpygFwk",
        "colab_type": "code",
        "colab": {
          "base_uri": "https://localhost:8080/",
          "height": 301
        },
        "outputId": "57f89179-480c-4336-b7e7-bcba6eb80ae5"
      },
      "source": [
        "GAN.layers[1].summary()"
      ],
      "execution_count": 17,
      "outputs": [
        {
          "output_type": "stream",
          "text": [
            "Model: \"sequential\"\n",
            "_________________________________________________________________\n",
            "Layer (type)                 Output Shape              Param #   \n",
            "=================================================================\n",
            "flatten (Flatten)            (None, 784)               0         \n",
            "_________________________________________________________________\n",
            "dense (Dense)                (None, 150)               117750    \n",
            "_________________________________________________________________\n",
            "dense_1 (Dense)              (None, 100)               15100     \n",
            "_________________________________________________________________\n",
            "dense_2 (Dense)              (None, 1)                 101       \n",
            "=================================================================\n",
            "Total params: 132,951\n",
            "Trainable params: 132,951\n",
            "Non-trainable params: 0\n",
            "_________________________________________________________________\n"
          ],
          "name": "stdout"
        }
      ]
    },
    {
      "cell_type": "code",
      "metadata": {
        "id": "tjPTZ8e9gQFA",
        "colab_type": "code",
        "colab": {
          "base_uri": "https://localhost:8080/",
          "height": 52
        },
        "outputId": "b8a351b1-b403-45b5-af08-44e593c8ca6c"
      },
      "source": [
        "generator,discriminator =GAN.layers\n",
        "batch_size=32\n",
        "epochs=1\n",
        "for epoch in range(epochs):\n",
        "  i=0 \n",
        "  print(f\"Currently on epoch {epoch+1}\" )\n",
        "  for batch in dataset:\n",
        "    i=i+1\n",
        "    if i%100==0:\n",
        "      print(f\"Currently on batch {i}\" )\n",
        "    #DISCRIMINATOR TRAINING PHASE\n",
        "    noise =tf.random.normal(shape=[batch_size,coding_size])\n",
        "    gen_images=generator(noise)\n",
        "    X_fake_vs_real= tf.concat([gen_images,tf.dtypes.cast(batch,tf.float32)],axis=0)\n",
        "    y1 = tf.constant([[0.0]]*batch_size+[[1.0]]*batch_size)\n",
        "    discriminator.trainable=True \n",
        "    discriminator.train_on_batch(X_fake_vs_real,y1)\n",
        "    #GENERATOR TRAINING PHASE\n",
        "    noise =tf.random.normal(shape=[batch_size,coding_size])\n",
        "    y2=tf.constant([[1.0]]*batch_size)\n",
        "    discriminator.trainable=False \n",
        "    GAN.train_on_batch(noise,y2)"
      ],
      "execution_count": 18,
      "outputs": [
        {
          "output_type": "stream",
          "text": [
            "Currently on epoch 1\n",
            "Currently on batch 100\n"
          ],
          "name": "stdout"
        }
      ]
    },
    {
      "cell_type": "code",
      "metadata": {
        "id": "LWO3oubYjEXo",
        "colab_type": "code",
        "colab": {}
      },
      "source": [
        "noise = tf.random.normal(shape=[10,coding_size])"
      ],
      "execution_count": 19,
      "outputs": []
    },
    {
      "cell_type": "code",
      "metadata": {
        "id": "7ecTulPWjFAw",
        "colab_type": "code",
        "colab": {
          "base_uri": "https://localhost:8080/",
          "height": 102
        },
        "outputId": "c8d8f9f7-e526-42ea-d3e0-16d79bf6698e"
      },
      "source": [
        "plt.imshow(noise)"
      ],
      "execution_count": 20,
      "outputs": [
        {
          "output_type": "execute_result",
          "data": {
            "text/plain": [
              "<matplotlib.image.AxesImage at 0x7fb29f762198>"
            ]
          },
          "metadata": {
            "tags": []
          },
          "execution_count": 20
        },
        {
          "output_type": "display_data",
          "data": {
            "image/png": "[encoded data removed]",
            "text/plain": [
              "<Figure size 432x288 with 1 Axes>"
            ]
          },
          "metadata": {
            "tags": [],
            "needs_background": "light"
          }
        }
      ]
    },
    {
      "cell_type": "code",
      "metadata": {
        "id": "y_HR9-I_jRJ_",
        "colab_type": "code",
        "colab": {}
      },
      "source": [
        "image=generator(noise)"
      ],
      "execution_count": 21,
      "outputs": []
    },
    {
      "cell_type": "code",
      "metadata": {
        "id": "mKE84oZbsbbN",
        "colab_type": "code",
        "colab": {
          "base_uri": "https://localhost:8080/",
          "height": 282
        },
        "outputId": "db59e6ff-5a3b-428e-bb36-fc63b9d0778c"
      },
      "source": [
        "plt.imshow(image[5])"
      ],
      "execution_count": 22,
      "outputs": [
        {
          "output_type": "execute_result",
          "data": {
            "text/plain": [
              "<matplotlib.image.AxesImage at 0x7fb29f730748>"
            ]
          },
          "metadata": {
            "tags": []
          },
          "execution_count": 22
        },
        {
          "output_type": "display_data",
          "data": {
            "image/png": "[encoded data removed]",
            "text/plain": [
              "<Figure size 432x288 with 1 Axes>"
            ]
          },
          "metadata": {
            "tags": [],
            "needs_background": "light"
          }
        }
      ]
    },
    {
      "cell_type": "code",
      "metadata": {
        "id": "mvUltNbgsecD",
        "colab_type": "code",
        "colab": {}
      },
      "source": [
        ""
      ],
      "execution_count": 22,
      "outputs": []
    }
  ]
}